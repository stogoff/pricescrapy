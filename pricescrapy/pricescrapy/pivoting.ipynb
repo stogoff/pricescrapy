{
 "cells": [
  {
   "cell_type": "code",
   "execution_count": 1,
   "metadata": {},
   "outputs": [],
   "source": [
    "import pandas as pd"
   ]
  },
  {
   "cell_type": "code",
   "execution_count": 61,
   "metadata": {},
   "outputs": [
    {
     "data": {
      "text/html": [
       "<div>\n",
       "<style scoped>\n",
       "    .dataframe tbody tr th:only-of-type {\n",
       "        vertical-align: middle;\n",
       "    }\n",
       "\n",
       "    .dataframe tbody tr th {\n",
       "        vertical-align: top;\n",
       "    }\n",
       "\n",
       "    .dataframe thead th {\n",
       "        text-align: right;\n",
       "    }\n",
       "</style>\n",
       "<table border=\"1\" class=\"dataframe\">\n",
       "  <thead>\n",
       "    <tr style=\"text-align: right;\">\n",
       "      <th></th>\n",
       "      <th>art</th>\n",
       "      <th>title</th>\n",
       "      <th>price</th>\n",
       "      <th>shop</th>\n",
       "      <th>link</th>\n",
       "    </tr>\n",
       "  </thead>\n",
       "  <tbody>\n",
       "    <tr>\n",
       "      <th>0</th>\n",
       "      <td>APRARN000011015</td>\n",
       "      <td>Тарелка плоская, 15 см, Prime</td>\n",
       "      <td>200.0</td>\n",
       "      <td>Посуда PRO</td>\n",
       "      <td>http://posuda-pro.ru/catalog/farfor-ariane-ind...</td>\n",
       "    </tr>\n",
       "    <tr>\n",
       "      <th>1</th>\n",
       "      <td>APRARN000011017</td>\n",
       "      <td>Тарелка поская, 17 см, Prime</td>\n",
       "      <td>206.0</td>\n",
       "      <td>Посуда PRO</td>\n",
       "      <td>http://posuda-pro.ru/catalog/farfor-ariane-ind...</td>\n",
       "    </tr>\n",
       "    <tr>\n",
       "      <th>2</th>\n",
       "      <td>APRARN000011021</td>\n",
       "      <td>Тарелка плоская, 21 см, Prime</td>\n",
       "      <td>252.0</td>\n",
       "      <td>Посуда PRO</td>\n",
       "      <td>http://posuda-pro.ru/catalog/farfor-ariane-ind...</td>\n",
       "    </tr>\n",
       "    <tr>\n",
       "      <th>3</th>\n",
       "      <td>APRARN000011023</td>\n",
       "      <td>Тарелка плоская 23 см, Prime</td>\n",
       "      <td>270.0</td>\n",
       "      <td>Посуда PRO</td>\n",
       "      <td>http://posuda-pro.ru/catalog/farfor-ariane-ind...</td>\n",
       "    </tr>\n",
       "    <tr>\n",
       "      <th>4</th>\n",
       "      <td>APRARN000011015</td>\n",
       "      <td>Тарелка плоская, 15 см, Prime</td>\n",
       "      <td>200.0</td>\n",
       "      <td>проект 2015</td>\n",
       "      <td>https://projecthotel.ru/item/tarelkaploskaya-1...</td>\n",
       "    </tr>\n",
       "  </tbody>\n",
       "</table>\n",
       "</div>"
      ],
      "text/plain": [
       "               art                          title  price         shop  \\\n",
       "0  APRARN000011015  Тарелка плоская, 15 см, Prime  200.0   Посуда PRO   \n",
       "1  APRARN000011017   Тарелка поская, 17 см, Prime  206.0   Посуда PRO   \n",
       "2  APRARN000011021  Тарелка плоская, 21 см, Prime  252.0   Посуда PRO   \n",
       "3  APRARN000011023   Тарелка плоская 23 см, Prime  270.0   Посуда PRO   \n",
       "4  APRARN000011015  Тарелка плоская, 15 см, Prime  200.0  проект 2015   \n",
       "\n",
       "                                                link  \n",
       "0  http://posuda-pro.ru/catalog/farfor-ariane-ind...  \n",
       "1  http://posuda-pro.ru/catalog/farfor-ariane-ind...  \n",
       "2  http://posuda-pro.ru/catalog/farfor-ariane-ind...  \n",
       "3  http://posuda-pro.ru/catalog/farfor-ariane-ind...  \n",
       "4  https://projecthotel.ru/item/tarelkaploskaya-1...  "
      ]
     },
     "execution_count": 61,
     "metadata": {},
     "output_type": "execute_result"
    }
   ],
   "source": [
    "df = pd.read_csv('static/result1566972765.csv', delimiter=';', header=None, names=['art','title','price','shop', 'link'])\n",
    "df.head()"
   ]
  },
  {
   "cell_type": "code",
   "execution_count": 47,
   "metadata": {},
   "outputs": [],
   "source": [
    "def return_link(x):\n",
    "    return '<a href=\"{0}\">{1}</a>'.format(x['link'], x['price'])"
   ]
  },
  {
   "cell_type": "code",
   "execution_count": 62,
   "metadata": {},
   "outputs": [],
   "source": [
    "def return_hyperlink(x):\n",
    "    return '=HYPERLINK(\"{0}\", {1})'.format(x['link'], x['price'])"
   ]
  },
  {
   "cell_type": "code",
   "execution_count": 63,
   "metadata": {},
   "outputs": [],
   "source": [
    "df['linkedprice'] = df.apply(return_hyperlink,axis=1)"
   ]
  },
  {
   "cell_type": "code",
   "execution_count": 64,
   "metadata": {},
   "outputs": [
    {
     "data": {
      "text/html": [
       "<div>\n",
       "<style scoped>\n",
       "    .dataframe tbody tr th:only-of-type {\n",
       "        vertical-align: middle;\n",
       "    }\n",
       "\n",
       "    .dataframe tbody tr th {\n",
       "        vertical-align: top;\n",
       "    }\n",
       "\n",
       "    .dataframe thead th {\n",
       "        text-align: right;\n",
       "    }\n",
       "</style>\n",
       "<table border=\"1\" class=\"dataframe\">\n",
       "  <thead>\n",
       "    <tr style=\"text-align: right;\">\n",
       "      <th></th>\n",
       "      <th>art</th>\n",
       "      <th>title</th>\n",
       "      <th>price</th>\n",
       "      <th>shop</th>\n",
       "      <th>link</th>\n",
       "      <th>linkedprice</th>\n",
       "    </tr>\n",
       "  </thead>\n",
       "  <tbody>\n",
       "    <tr>\n",
       "      <th>0</th>\n",
       "      <td>APRARN000011015</td>\n",
       "      <td>Тарелка плоская, 15 см, Prime</td>\n",
       "      <td>200.0</td>\n",
       "      <td>Посуда PRO</td>\n",
       "      <td>http://posuda-pro.ru/catalog/farfor-ariane-ind...</td>\n",
       "      <td>=HYPERLINK(\"http://posuda-pro.ru/catalog/farfo...</td>\n",
       "    </tr>\n",
       "    <tr>\n",
       "      <th>1</th>\n",
       "      <td>APRARN000011017</td>\n",
       "      <td>Тарелка поская, 17 см, Prime</td>\n",
       "      <td>206.0</td>\n",
       "      <td>Посуда PRO</td>\n",
       "      <td>http://posuda-pro.ru/catalog/farfor-ariane-ind...</td>\n",
       "      <td>=HYPERLINK(\"http://posuda-pro.ru/catalog/farfo...</td>\n",
       "    </tr>\n",
       "    <tr>\n",
       "      <th>2</th>\n",
       "      <td>APRARN000011021</td>\n",
       "      <td>Тарелка плоская, 21 см, Prime</td>\n",
       "      <td>252.0</td>\n",
       "      <td>Посуда PRO</td>\n",
       "      <td>http://posuda-pro.ru/catalog/farfor-ariane-ind...</td>\n",
       "      <td>=HYPERLINK(\"http://posuda-pro.ru/catalog/farfo...</td>\n",
       "    </tr>\n",
       "    <tr>\n",
       "      <th>3</th>\n",
       "      <td>APRARN000011023</td>\n",
       "      <td>Тарелка плоская 23 см, Prime</td>\n",
       "      <td>270.0</td>\n",
       "      <td>Посуда PRO</td>\n",
       "      <td>http://posuda-pro.ru/catalog/farfor-ariane-ind...</td>\n",
       "      <td>=HYPERLINK(\"http://posuda-pro.ru/catalog/farfo...</td>\n",
       "    </tr>\n",
       "    <tr>\n",
       "      <th>4</th>\n",
       "      <td>APRARN000011015</td>\n",
       "      <td>Тарелка плоская, 15 см, Prime</td>\n",
       "      <td>200.0</td>\n",
       "      <td>проект 2015</td>\n",
       "      <td>https://projecthotel.ru/item/tarelkaploskaya-1...</td>\n",
       "      <td>=HYPERLINK(\"https://projecthotel.ru/item/tarel...</td>\n",
       "    </tr>\n",
       "  </tbody>\n",
       "</table>\n",
       "</div>"
      ],
      "text/plain": [
       "               art                          title  price         shop  \\\n",
       "0  APRARN000011015  Тарелка плоская, 15 см, Prime  200.0   Посуда PRO   \n",
       "1  APRARN000011017   Тарелка поская, 17 см, Prime  206.0   Посуда PRO   \n",
       "2  APRARN000011021  Тарелка плоская, 21 см, Prime  252.0   Посуда PRO   \n",
       "3  APRARN000011023   Тарелка плоская 23 см, Prime  270.0   Посуда PRO   \n",
       "4  APRARN000011015  Тарелка плоская, 15 см, Prime  200.0  проект 2015   \n",
       "\n",
       "                                                link  \\\n",
       "0  http://posuda-pro.ru/catalog/farfor-ariane-ind...   \n",
       "1  http://posuda-pro.ru/catalog/farfor-ariane-ind...   \n",
       "2  http://posuda-pro.ru/catalog/farfor-ariane-ind...   \n",
       "3  http://posuda-pro.ru/catalog/farfor-ariane-ind...   \n",
       "4  https://projecthotel.ru/item/tarelkaploskaya-1...   \n",
       "\n",
       "                                         linkedprice  \n",
       "0  =HYPERLINK(\"http://posuda-pro.ru/catalog/farfo...  \n",
       "1  =HYPERLINK(\"http://posuda-pro.ru/catalog/farfo...  \n",
       "2  =HYPERLINK(\"http://posuda-pro.ru/catalog/farfo...  \n",
       "3  =HYPERLINK(\"http://posuda-pro.ru/catalog/farfo...  \n",
       "4  =HYPERLINK(\"https://projecthotel.ru/item/tarel...  "
      ]
     },
     "execution_count": 64,
     "metadata": {},
     "output_type": "execute_result"
    }
   ],
   "source": [
    "df.head()"
   ]
  },
  {
   "cell_type": "code",
   "execution_count": 72,
   "metadata": {},
   "outputs": [],
   "source": [
    "dfp = pd.pivot_table(df, values=['linkedprice'], index='art', columns='shop',aggfunc='first')"
   ]
  },
  {
   "cell_type": "code",
   "execution_count": 73,
   "metadata": {},
   "outputs": [
    {
     "data": {
      "text/plain": [
       "'=HYPERLINK(\"https://projecthotel.ru/item/tarelkaploskaya-15sm-prime\", 200.0)'"
      ]
     },
     "execution_count": 73,
     "metadata": {},
     "output_type": "execute_result"
    }
   ],
   "source": [
    "dfp.iloc[0,3]"
   ]
  },
  {
   "cell_type": "code",
   "execution_count": 74,
   "metadata": {},
   "outputs": [],
   "source": [
    "dfp.to_excel(\"output.xlsx\")"
   ]
  },
  {
   "cell_type": "code",
   "execution_count": null,
   "metadata": {},
   "outputs": [],
   "source": []
  }
 ],
 "metadata": {
  "kernelspec": {
   "display_name": "Python 3",
   "language": "python",
   "name": "python3"
  },
  "language_info": {
   "codemirror_mode": {
    "name": "ipython",
    "version": 3
   },
   "file_extension": ".py",
   "mimetype": "text/x-python",
   "name": "python",
   "nbconvert_exporter": "python",
   "pygments_lexer": "ipython3",
   "version": "3.6.8"
  }
 },
 "nbformat": 4,
 "nbformat_minor": 2
}
